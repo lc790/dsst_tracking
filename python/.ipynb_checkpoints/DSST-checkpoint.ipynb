{
 "metadata": {
  "name": ""
 },
 "nbformat": 3,
 "nbformat_minor": 0,
 "worksheets": [
  {
   "cells": [
    {
     "cell_type": "markdown",
     "metadata": {},
     "source": [
      "# Conbine DSST method"
     ]
    },
    {
     "cell_type": "markdown",
     "metadata": {},
     "source": [
      "## System LIBS"
     ]
    },
    {
     "cell_type": "code",
     "collapsed": false,
     "input": [
      "import sys\n",
      "import os\n",
      "import requests\n",
      "import argparse\n",
      "import base64\n",
      "import time\n",
      "import json\n",
      "import math\n",
      "import cv2\n",
      "import numpy as np\n",
      "from numpy import empty, nan\n",
      "from numpy import *\n",
      "from __future__ import print_function\n",
      "import pylab\n",
      "import scipy.misc\n",
      "from optparse import OptionParser"
     ],
     "language": "python",
     "metadata": {},
     "outputs": [],
     "prompt_number": 1
    },
    {
     "cell_type": "markdown",
     "metadata": {},
     "source": [
      "## Basic Function Define"
     ]
    },
    {
     "cell_type": "code",
     "collapsed": false,
     "input": [
      "def area_2(p1, p2, p3):\n",
      "    return abs(p1[0]*p2[1] + p2[0]*p3[1] + p3[0]*p1[1] - p1[0]*p3[1] - p2[0]*p1[1] - p3[0]*p2[1])\n",
      "\n",
      "def contains(triangle, h, px, py):\n",
      "    p1 = (triangle[0], triangle[1])\n",
      "    p2 = (triangle[2], h)\n",
      "    p3 = (triangle[3], h)\n",
      "    p = (px, py)\n",
      "    if area_2(p1, p2, p3) == area_2(p1, p2, p) + area_2(p1, p3, p) + area_2(p2, p3, p):\n",
      "        return 1\n",
      "    return 0\n",
      "\n",
      "def isintersect(triangle, rectangle, h):\n",
      "    if len(triangle) < 4:\n",
      "        return 1\n",
      "    if contains(triangle, h, rectangle[0], rectangle[1]) or contains(triangle, h, rectangle[0], rectangle[3]) or\\\n",
      "     contains(triangle, h, rectangle[2], rectangle[3]) or contains(triangle, h, rectangle[2], rectangle[1]):\n",
      "            return 1\n",
      "    if triangle[0] >= rectangle[0] and triangle[0] <= rectangle[2] and triangle[1] >= rectangle[1] and\\\n",
      "     triangle[1] <= rectangle[2]:\n",
      "            return 1\n",
      "    return 0\n",
      "\n",
      "def drawing_objdet(res, drawing_board, _h, _w, lane_triangle):\n",
      "    r_jo = res\n",
      "    color = [(0, 255, 0), (255, 255, 0), (0, 0, 255)]\n",
      "    maxy = 0\n",
      "    for item in r_jo['objs']:\n",
      "        _x1 = int(_w * item['left'])\n",
      "        _y1 = int(_h * item['top'])\n",
      "        _x2 = int(_w * item['right'])\n",
      "        _y2 = int(_h * item['bottom'])\n",
      "        _confidence = item['confidence']\n",
      "        _type = item['type']\n",
      "        if _confidence > 0.9:\n",
      "            if _type == 'CAR':\n",
      "                cl = color[1]\n",
      "            elif _type == 'PEDESTRIAN':\n",
      "                cl = color[0]\n",
      "            elif _type == 'BICYCLE':\n",
      "                cl = color[2]\n",
      "            \n",
      "            if isintersect(lane_triangle, (_x1, _y1, _x2, _y2), _h):\n",
      "                if _y2 > maxy:\n",
      "                    maxy = _y2\n",
      "                    forward_car = (_x1, _y1, _x2, _y2)\n",
      "                    fc = cl\n",
      "    if 'forward_car' in dir():\n",
      "        cv2.rectangle(drawing_board, (forward_car[0], forward_car[1]), (forward_car[2], forward_car[3]), fc, 1)\n",
      "        valid = True\n",
      "        bbox = np.array([forward_car[0], forward_car[1], forward_car[2]-forward_car[0], forward_car[3]-forward_car[1]])\n",
      "    else:\n",
      "        bbox = np.array([0,0,0,0])\n",
      "        valid = False\n",
      "    \n",
      "    tl = bbox[:2]\n",
      "    br = bbox[2:4]\n",
      "    return valid, tl, br\n",
      "\n",
      "def response_visualization(response):\n",
      "    t = np.asarray(bytearray(base64.b64decode(response)))\n",
      "    response = cv2.imdecode(t, 0)\n",
      "    cls = (response != 255).astype(np.uint8)\n",
      "    response[cls == 0] = 0\n",
      "\n",
      "    hsv = np.zeros(response.shape + (3,), dtype=np.uint8)\n",
      "    hsv[:, :, 1] = 255\n",
      "    hsv[:, :, 0] = response / 2\n",
      "    hsv[:, :, 2] = cv2.normalize(cls, None, 0, 255, cv2.NORM_MINMAX)\n",
      "    bgr = cv2.cvtColor(hsv, cv2.COLOR_HSV2BGR)\n",
      "    return bgr\n",
      "\n",
      "def render(frame, result, w):\n",
      "    if 'response' in result and result['response'] is not None:\n",
      "        response = response_visualization(result['response'])\n",
      "        frame = cv2.addWeighted(frame, .7, response, .3, 0)\n",
      "        \n",
      "    left_bound = 0\n",
      "    right_bound = w\n",
      "    tup1 = ()\n",
      "    tup2 = ()\n",
      "    for item in result['lanes']:\n",
      "        p1 = tuple(item['control_points'][0])\n",
      "        p2 = tuple(item['control_points'][1])\n",
      "        if p2[0] <= w/2 and p2[0] >= left_bound:\n",
      "            left_bound = p2[0]\n",
      "            pleft = p2\n",
      "        if p2[0] >= w/2 and p2[0] <= right_bound:\n",
      "            right_bound = p2[0]\n",
      "            pright = p2\n",
      "\n",
      "    if 'pleft' in dir():\n",
      "        cv2.line(frame, p1, pleft, color = (0, 255, 0), thickness = 2)\n",
      "        tup1 = p1 + (pleft[0], )\n",
      "        \n",
      "    if 'pright' in dir():\n",
      "        cv2.line(frame, p1, pright, color = (0, 255, 0), thickness = 2)\n",
      "        tup2 = (pright[0], )\n",
      "\n",
      "    return frame, tup1 + tup2"
     ],
     "language": "python",
     "metadata": {},
     "outputs": [],
     "prompt_number": 2
    },
    {
     "cell_type": "markdown",
     "metadata": {},
     "source": [
      "## Basic Parameters"
     ]
    },
    {
     "cell_type": "code",
     "collapsed": false,
     "input": [
      "vid = cv2.VideoCapture(\"../../output_5min.mp4\")\n",
      "\n",
      "tic = time.time()\n",
      "# tracking pram\n",
      "padding = 1.0 \n",
      "output_sigma_factor = 1 / float(16)\n",
      "sigma = 0.2 \n",
      "lambda_value = 1e-2 \n",
      "interpolation_factor = 0.075\n",
      "Dsst_valid = False\n",
      "\n",
      "# tracking varias\n",
      "sz = None\n",
      "cos_window = None\n",
      "pos = None\n",
      "global z, response\n",
      "z = None\n",
      "alphaf = None\n",
      "response = None"
     ],
     "language": "python",
     "metadata": {},
     "outputs": [],
     "prompt_number": 3
    },
    {
     "cell_type": "markdown",
     "metadata": {},
     "source": [
      "## Function for DSST"
     ]
    },
    {
     "cell_type": "code",
     "collapsed": false,
     "input": [
      "# input DSST\n",
      "sys.path.append(\"../build\")\n",
      "import DSST\n",
      "dsst = DSST.Tracker()\n",
      "dsst.setParam()\n",
      "\n",
      "# initialization for dsst\n",
      "\n",
      "# ret, im = vid.read()\n",
      "# dsst.setBbox(300,240,600,800)\n",
      "# dsst.reinit(im)\n",
      "\n",
      "# update tracking\n",
      "\n",
      "#     ret, im = vid.read()\n",
      "#     dsst.update(im)"
     ],
     "language": "python",
     "metadata": {},
     "outputs": [],
     "prompt_number": 7
    },
    {
     "cell_type": "markdown",
     "metadata": {},
     "source": [
      "## RUN Time"
     ]
    },
    {
     "cell_type": "code",
     "collapsed": false,
     "input": [
      "# import cv2\n",
      "# vid = cv2.VideoCapture(\"../../output_5min.mp4\")\n",
      "# while vid.isOpened():\n",
      "#     ret, im = vid.read()\n",
      "#     if not ret or im is None:\n",
      "#         break\n",
      "    \n",
      "#     cv2.imshow('image', im)\n",
      "#     cv2.waitKey(1)"
     ],
     "language": "python",
     "metadata": {},
     "outputs": [
      {
       "ename": "KeyboardInterrupt",
       "evalue": "",
       "output_type": "pyerr",
       "traceback": [
        "\u001b[0;31m---------------------------------------------------------------------------\u001b[0m\n\u001b[0;31mKeyboardInterrupt\u001b[0m                         Traceback (most recent call last)",
        "\u001b[0;32m<ipython-input-8-3f08daafdc96>\u001b[0m in \u001b[0;36m<module>\u001b[0;34m()\u001b[0m\n\u001b[1;32m      7\u001b[0m \u001b[0;34m\u001b[0m\u001b[0m\n\u001b[1;32m      8\u001b[0m     \u001b[0mcv2\u001b[0m\u001b[0;34m.\u001b[0m\u001b[0mimshow\u001b[0m\u001b[0;34m(\u001b[0m\u001b[0;34m'image'\u001b[0m\u001b[0;34m,\u001b[0m \u001b[0mim\u001b[0m\u001b[0;34m)\u001b[0m\u001b[0;34m\u001b[0m\u001b[0m\n\u001b[0;32m----> 9\u001b[0;31m     \u001b[0mcv2\u001b[0m\u001b[0;34m.\u001b[0m\u001b[0mwaitKey\u001b[0m\u001b[0;34m(\u001b[0m\u001b[0;36m1\u001b[0m\u001b[0;34m)\u001b[0m\u001b[0;34m\u001b[0m\u001b[0m\n\u001b[0m",
        "\u001b[0;31mKeyboardInterrupt\u001b[0m: "
       ]
      }
     ],
     "prompt_number": 8
    },
    {
     "cell_type": "code",
     "collapsed": false,
     "input": [
      "while vid.isOpened():\n",
      "    ret, im = vid.read()\n",
      "    if not ret or im is None:\n",
      "        break\n",
      "  \n",
      "    im_compress = cv2.imencode('.jpg', im)[1]\n",
      "    encoded_string = base64.b64encode(im_compress)\n",
      "\n",
      "    payload = {'image_base64': encoded_string, 'image_name': \"\"}\n",
      "    h = im.shape[0]\n",
      "    w = im.shape[1]\n",
      "    \n",
      "    loop = time.time() - tic\n",
      "    \n",
      "    if  loop > 2:\n",
      "        tic = time.time()\n",
      "        \n",
      "        # drawing lines\n",
      "        rline = requests.post('http://10.128.8.10:8005/v1/analyzer/lane', data=json.dumps(payload))\n",
      "        result_line = json.loads(rline.text)\n",
      "        (frame, lane_triangle) = render(im, result_line, w)\n",
      "        \n",
      "        # drawing cars\n",
      "        rcar = requests.post('http://10.128.2.5:17001/v1/analyzer/objdetect', data=json.dumps(payload))\n",
      "        result_car = json.loads(rcar.text)\n",
      "        valid_, tl_, br_ = drawing_objdet(result_car, frame, h, w, lane_triangle)\n",
      "        \n",
      "        # TODO initial CMT\n",
      "        if valid_ == True:            \n",
      "            im = frame\n",
      "            dsst.setBbox(10,10,100,100)\n",
      "            dsst.init(im)\n",
      "            Dsst_valid = True\n",
      "        else:\n",
      "            Dsst_valid = False\n",
      "    else:          \n",
      "        if Dsst_valid == True:\n",
      "            dsst.play(im)\n",
      "            # Display Results\n",
      "            if dsst.tFound == 1:\n",
      "                print(dsst.tFound.x, ' ', dsst.tFound.y)\n",
      "                print (pos, target_sz)\n",
      "                pos_ = pos - pylab.floor(target_sz / 2)\n",
      "                cv2.line(im, tuple(pos_.astype(int)), tuple((pos_ + [target_sz[0], 0]).astype(int))\\\n",
      "                         , (255, 0, 0), 4)\n",
      "                cv2.line(im, tuple((pos_ + [target_sz[0], 0]).astype(int)), tuple((pos_ + target_sz).astype(int))\\\n",
      "                         , (255, 0, 0), 4)\n",
      "                cv2.line(im, tuple(pos_.astype(int)), tuple((pos_ + [0, target_sz[1]]).astype(int))\\\n",
      "                         , (255, 0, 0), 4)\n",
      "                cv2.line(im, tuple((pos_ + [0, target_sz[1]]).astype(int)), tuple((pos_ + target_sz).astype(int))\\\n",
      "                         , (255, 0, 0), 4)\n",
      "\n",
      "    cv2.imshow('image', im)\n",
      "    cv2.waitKey(1)\n"
     ],
     "language": "python",
     "metadata": {},
     "outputs": [
      {
       "ename": "AttributeError",
       "evalue": "'DSST.Tracker' object has no attribute 'init'",
       "output_type": "pyerr",
       "traceback": [
        "\u001b[0;31m---------------------------------------------------------------------------\u001b[0m\n\u001b[0;31mAttributeError\u001b[0m                            Traceback (most recent call last)",
        "\u001b[0;32m<ipython-input-7-062936451c75>\u001b[0m in \u001b[0;36m<module>\u001b[0;34m()\u001b[0m\n\u001b[1;32m     30\u001b[0m             \u001b[0mim\u001b[0m \u001b[0;34m=\u001b[0m \u001b[0mframe\u001b[0m\u001b[0;34m\u001b[0m\u001b[0m\n\u001b[1;32m     31\u001b[0m             \u001b[0mdsst\u001b[0m\u001b[0;34m.\u001b[0m\u001b[0msetBbox\u001b[0m\u001b[0;34m(\u001b[0m\u001b[0;36m10\u001b[0m\u001b[0;34m,\u001b[0m\u001b[0;36m10\u001b[0m\u001b[0;34m,\u001b[0m\u001b[0;36m100\u001b[0m\u001b[0;34m,\u001b[0m\u001b[0;36m100\u001b[0m\u001b[0;34m)\u001b[0m\u001b[0;34m\u001b[0m\u001b[0m\n\u001b[0;32m---> 32\u001b[0;31m             \u001b[0mdsst\u001b[0m\u001b[0;34m.\u001b[0m\u001b[0minit\u001b[0m\u001b[0;34m(\u001b[0m\u001b[0mim\u001b[0m\u001b[0;34m)\u001b[0m\u001b[0;34m\u001b[0m\u001b[0m\n\u001b[0m\u001b[1;32m     33\u001b[0m             \u001b[0mDsst_valid\u001b[0m \u001b[0;34m=\u001b[0m \u001b[0mTrue\u001b[0m\u001b[0;34m\u001b[0m\u001b[0m\n\u001b[1;32m     34\u001b[0m         \u001b[0;32melse\u001b[0m\u001b[0;34m:\u001b[0m\u001b[0;34m\u001b[0m\u001b[0m\n",
        "\u001b[0;31mAttributeError\u001b[0m: 'DSST.Tracker' object has no attribute 'init'"
       ]
      }
     ],
     "prompt_number": 7
    },
    {
     "cell_type": "code",
     "collapsed": false,
     "input": [],
     "language": "python",
     "metadata": {},
     "outputs": []
    },
    {
     "cell_type": "code",
     "collapsed": false,
     "input": [],
     "language": "python",
     "metadata": {},
     "outputs": []
    }
   ],
   "metadata": {}
  }
 ]
}